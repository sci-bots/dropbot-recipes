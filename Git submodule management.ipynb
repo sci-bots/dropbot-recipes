{
 "cells": [
  {
   "cell_type": "code",
   "execution_count": null,
   "metadata": {},
   "outputs": [],
   "source": [
    "from __future__ import print_function\n",
    "from __future__ import unicode_literals\n",
    "from collections import OrderedDict\n",
    "import copy\n",
    "import io\n",
    "import json\n",
    "import logging; logging.basicConfig(level=logging.DEBUG)\n",
    "logging.getLogger('git.cmd').setLevel(logging.WARNING)\n",
    "import os\n",
    "import os.path\n",
    "import pkg_resources\n",
    "import re\n",
    "import sys\n",
    "import tempfile as tf\n",
    "\n",
    "from ruamel.yaml import YAML\n",
    "from ruamel.yaml.constructor import DuplicateKeyError\n",
    "import conda_helpers as ch\n",
    "import git\n",
    "import path_helpers as ph\n",
    "import pydash\n",
    "import pydash as _py\n",
    "import semantic_version\n",
    "import yaml\n",
    "\n",
    "crum_src = ph.path('.').joinpath('_tools', 'crum', 'src').realpath()\n",
    "if crum_src not in sys.path:\n",
    "    sys.path.insert(0, crum_src)\n",
    "from crum.render import iter_deep\n",
    "from crum.render_recipes import main, render_recipes\n",
    "from crum.bootstrap import recipe_objs\n",
    "from crum.git_tools import roll_back_bump, bump_requirements, commit_recipes"
   ]
  },
  {
   "cell_type": "code",
   "execution_count": null,
   "metadata": {
    "scrolled": false
   },
   "outputs": [],
   "source": [
    "recipes = [ph.path(line_i.strip()) for line_i in ph.path('bootstrap-build-order.txt').lines()]\n",
    "args = recipes + '-- -c file:///C:\\dbot -c conda-forge'.split(' ')\n",
    "results = render_recipes('.cache', recipes, '-c file:///C:\\dbot -c conda-forge'.split(' '))\n",
    "recipe_objs_ = OrderedDict([(k, recipe_objs(v)) for k, v in results.items()])"
   ]
  },
  {
   "cell_type": "code",
   "execution_count": null,
   "metadata": {},
   "outputs": [],
   "source": [
    "# roll_back_bump(repo)"
   ]
  },
  {
   "cell_type": "code",
   "execution_count": null,
   "metadata": {
    "scrolled": false
   },
   "outputs": [],
   "source": [
    "start_subpackage_info, subpackage_info = bump_requirements(recipe_objs_)\n",
    "repo = git.Repo('.')\n",
    "commit_recipes(repo, dry_run=False)"
   ]
  },
  {
   "cell_type": "code",
   "execution_count": null,
   "metadata": {},
   "outputs": [],
   "source": [
    "from _tools.gitpython_helpers import traverse"
   ]
  },
  {
   "cell_type": "code",
   "execution_count": null,
   "metadata": {},
   "outputs": [],
   "source": [
    "repo_root = ph.path(repo.working_tree_dir)\n",
    "\n",
    "recipes_to_build = []\n",
    "for repo_i in traverse(repo):\n",
    "    try:\n",
    "        repo_path_i = repo_root.relpathto(repo_i.working_tree_dir)\n",
    "        print(repo_path_i, repo_i.git.describe('--tags', '--dirty'))\n",
    "    except:\n",
    "        pass\n",
    "#     if repo_i.git.diff('origin/master'):\n",
    "#         repo_path_i = repo_root.relpathto(repo_i.working_tree_dir)\n",
    "#         print(repo_path_i, 'needs to be pushed')\n",
    "#         recipes_to_build.append(repo_path_i)\n",
    "#     try:\n",
    "#         repo_i.git.push()\n",
    "#     except git.GitCommandError as e:\n",
    "#         print(repo_i, repo_root.relpathto(repo_i.working_tree_dir), e)\n",
    "\n",
    "print(' '.join(r for r in recipes if ph.path(r).normpath() in recipes_to_build))"
   ]
  }
 ],
 "metadata": {
  "kernelspec": {
   "display_name": "Python 3",
   "language": "python",
   "name": "python3"
  },
  "language_info": {
   "codemirror_mode": {
    "name": "ipython",
    "version": 3
   },
   "file_extension": ".py",
   "mimetype": "text/x-python",
   "name": "python",
   "nbconvert_exporter": "python",
   "pygments_lexer": "ipython3",
   "version": "3.6.4"
  }
 },
 "nbformat": 4,
 "nbformat_minor": 2
}
