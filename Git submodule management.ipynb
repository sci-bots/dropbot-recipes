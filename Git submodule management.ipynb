{
 "cells": [
  {
   "cell_type": "code",
   "execution_count": null,
   "metadata": {},
   "outputs": [],
   "source": [
    "from __future__ import print_function\n",
    "from __future__ import unicode_literals\n",
    "from collections import OrderedDict\n",
    "import copy\n",
    "import io\n",
    "import json\n",
    "import logging; logging.basicConfig(level=logging.DEBUG)\n",
    "import os\n",
    "import os.path\n",
    "import pkg_resources\n",
    "import re\n",
    "import tempfile as tf\n",
    "\n",
    "import conda_helpers as ch\n",
    "import git\n",
    "import path_helpers as ph\n",
    "import pydash\n",
    "import pydash as _py\n",
    "import semantic_version\n",
    "import yaml\n",
    "\n",
    "from _tools.render import iter_deep\n",
    "from _tools.render_recipes import main\n",
    "from _tools.git_tools import roll_back_bump, bump_requirements, commit_recipes"
   ]
  },
  {
   "cell_type": "code",
   "execution_count": null,
   "metadata": {
    "scrolled": false
   },
   "outputs": [],
   "source": [
    "recipes_root = ph.path(os.getcwd()).realpath()\n",
    "recipes = map(str.strip, ph.path('bootstrap-build-order.txt').lines())\n",
    "args = recipes + '-- -c file:///C:\\dbot -c conda-forge'.split(' ')\n",
    "\n",
    "results = main(*args)"
   ]
  },
  {
   "cell_type": "code",
   "execution_count": null,
   "metadata": {},
   "outputs": [],
   "source": [
    "roll_back_bump(repo)"
   ]
  },
  {
   "cell_type": "code",
   "execution_count": null,
   "metadata": {},
   "outputs": [],
   "source": [
    "bump_requirements(results)\n",
    "commit_recipes(repo, dry_run=False)"
   ]
  },
  {
   "cell_type": "code",
   "execution_count": null,
   "metadata": {},
   "outputs": [],
   "source": [
    "# repo = git.Repo('.')\n",
    "\n",
    "# repo.git.checkout('.')\n",
    "\n",
    "# for submodule_i in repo.submodules:\n",
    "#     subrepo_i = git.Repo(submodule_i.path)\n",
    "#     subrepo_i.git.checkout('.')"
   ]
  }
 ],
 "metadata": {
  "kernelspec": {
   "display_name": "Python 2",
   "language": "python",
   "name": "python2"
  },
  "language_info": {
   "codemirror_mode": {
    "name": "ipython",
    "version": 2
   },
   "file_extension": ".py",
   "mimetype": "text/x-python",
   "name": "python",
   "nbconvert_exporter": "python",
   "pygments_lexer": "ipython2",
   "version": "2.7.14"
  }
 },
 "nbformat": 4,
 "nbformat_minor": 2
}
